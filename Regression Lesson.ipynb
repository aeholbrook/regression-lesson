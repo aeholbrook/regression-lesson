{
 "cells": [
  {
   "cell_type": "markdown",
   "metadata": {},
   "source": [
    "This tutorial uses data pulled from [this kaggle repository](https://www.kaggle.com/rohankayan/years-of-experience-and-salary-dataset?select=Salary_Data.csv).\n",
    "\n",
    "# Simple Linear Regression\n",
    "\n",
    "[Linear regression](https://en.wikipedia.org/wiki/Linear_regression) is a simple algorithm by which we, put simply, can test using a simple line how good of a predictor the values of one continuous variable are to the vales of another. This one uses the simple formula:"
   ]
  },
  {
   "cell_type": "markdown",
   "metadata": {},
   "source": [
    "$$y=mx+b$$"
   ]
  },
  {
   "cell_type": "markdown",
   "metadata": {},
   "source": [
    "There's just one coefficient here - `mx`. That's the __slope__. Then there's the __intercept__ term `b`, which moves the line up and down on the graph. We can use these two to fit a simple straight line to a bunch points on a graph. "
   ]
  },
  {
   "cell_type": "markdown",
   "metadata": {},
   "source": [
    "## Imports and load data"
   ]
  },
  {
   "cell_type": "code",
   "execution_count": 38,
   "metadata": {},
   "outputs": [],
   "source": [
    "#pandas is a python library which is primarily for data manipulation and analysis\n",
    "import pandas as pd\n",
    "#numpy is a python library built for working with multidimension arrays and matrices.\n",
    "#here our data is a 2-dimensional matrix, so numpy makes working with it easier.\n",
    "import numpy as np\n",
    "#matplotlib is a data visualization library. Here we're going to use it to make plots. \n",
    "import matplotlib.pyplot as plt\n",
    "#seaborn makes matplotlib pretty.\n",
    "import seaborn as sns\n",
    "#sklearn is the library we're going to be using to actually perform the regression analysis. \n",
    "from sklearn.model_selection import train_test_split\n",
    "from sklearn.linear_model import LinearRegression\n",
    "from sklearn.metrics import r2_score\n",
    "\n",
    "#this gets the plots ready. \n",
    "sns.set()\n",
    "%matplotlib inline"
   ]
  },
  {
   "cell_type": "markdown",
   "metadata": {},
   "source": [
    "After we __import__ all of the libraries we need, we are going to __load the dataset.__\n",
    "\n",
    "In this case, we have a dataset called __SalaryData.csv__ which contains, well, salary data. It's being loaded as a __csv__ which is \"comma-separated values\". The dataset is included in the sidebar to the left, so you can open it and check out the data inside. It contains __salaries__ combined with __years of experience__. These are the two values for which we're going to look for a relationship. \n",
    "\n",
    "We're loading this as a __data frame__, which is a special two-dimensional matrix - basically a table - which the __pandas__ library uses in analysis. "
   ]
  },
  {
   "cell_type": "code",
   "execution_count": 39,
   "metadata": {},
   "outputs": [],
   "source": [
    "df = pd.read_csv(\"./SalaryData.csv\")"
   ]
  },
  {
   "cell_type": "markdown",
   "metadata": {},
   "source": [
    "Now we're going to use the __head()__ function, which outputs the first few entries of the dataset. This just gives us an idea of what our data looks like without having to go through the trouble of opening the whole thing."
   ]
  },
  {
   "cell_type": "code",
   "execution_count": 40,
   "metadata": {},
   "outputs": [
    {
     "data": {
      "text/html": [
       "<div>\n",
       "<style scoped>\n",
       "    .dataframe tbody tr th:only-of-type {\n",
       "        vertical-align: middle;\n",
       "    }\n",
       "\n",
       "    .dataframe tbody tr th {\n",
       "        vertical-align: top;\n",
       "    }\n",
       "\n",
       "    .dataframe thead th {\n",
       "        text-align: right;\n",
       "    }\n",
       "</style>\n",
       "<table border=\"1\" class=\"dataframe\">\n",
       "  <thead>\n",
       "    <tr style=\"text-align: right;\">\n",
       "      <th></th>\n",
       "      <th>YearsExperience</th>\n",
       "      <th>Salary</th>\n",
       "    </tr>\n",
       "  </thead>\n",
       "  <tbody>\n",
       "    <tr>\n",
       "      <th>0</th>\n",
       "      <td>1.1</td>\n",
       "      <td>39343.0</td>\n",
       "    </tr>\n",
       "    <tr>\n",
       "      <th>1</th>\n",
       "      <td>1.3</td>\n",
       "      <td>46205.0</td>\n",
       "    </tr>\n",
       "    <tr>\n",
       "      <th>2</th>\n",
       "      <td>1.5</td>\n",
       "      <td>37731.0</td>\n",
       "    </tr>\n",
       "    <tr>\n",
       "      <th>3</th>\n",
       "      <td>2.0</td>\n",
       "      <td>43525.0</td>\n",
       "    </tr>\n",
       "    <tr>\n",
       "      <th>4</th>\n",
       "      <td>2.2</td>\n",
       "      <td>39891.0</td>\n",
       "    </tr>\n",
       "  </tbody>\n",
       "</table>\n",
       "</div>"
      ],
      "text/plain": [
       "   YearsExperience   Salary\n",
       "0              1.1  39343.0\n",
       "1              1.3  46205.0\n",
       "2              1.5  37731.0\n",
       "3              2.0  43525.0\n",
       "4              2.2  39891.0"
      ]
     },
     "execution_count": 40,
     "metadata": {},
     "output_type": "execute_result"
    }
   ],
   "source": [
    "df.head()"
   ]
  },
  {
   "cell_type": "markdown",
   "metadata": {},
   "source": [
    "We'll also check the __shape__ of the dataset, which will tell us how many rows and columns there are, respectively. If you press this button you should see $(30,2)$, which corresponds with a dataset with 30 rows and 2 columns. So our IV and DV both have an _n_ - sample size - of 30."
   ]
  },
  {
   "cell_type": "code",
   "execution_count": 41,
   "metadata": {},
   "outputs": [
    {
     "data": {
      "text/plain": [
       "(30, 2)"
      ]
     },
     "execution_count": 41,
     "metadata": {},
     "output_type": "execute_result"
    }
   ],
   "source": [
    "df.shape"
   ]
  },
  {
   "cell_type": "markdown",
   "metadata": {},
   "source": [
    "Before we go forward, let's see if there are any missing values in our dataset. We will be compounding a few functions for this purpose. \n",
    "\n",
    "So, we have a _30 x 2_ data frame. We'll call this dataframe with the name we assigned it - __df__ - then use the __.isnull()__ command to return a data frame of the same size, but made up of cells that contain either _true_ or _false_. _True_ if there is no value in a given cell, _false_ if there's something there. Then we tell python we're going to perform an action on all of those cells using __.values__, and then use __.any()__ to see if _any_ of those cells returned _true_. This line will return _true_ if there's _any true value_ in the dataframe, and _False_ if there are none. \n",
    "\n",
    "Here, this should return _False_ since there are, ostensibly, no missing values in our data frame."
   ]
  },
  {
   "cell_type": "code",
   "execution_count": 42,
   "metadata": {},
   "outputs": [
    {
     "data": {
      "text/plain": [
       "False"
      ]
     },
     "execution_count": 42,
     "metadata": {},
     "output_type": "execute_result"
    }
   ],
   "source": [
    "df.isnull().values.any()"
   ]
  },
  {
   "cell_type": "markdown",
   "metadata": {},
   "source": [
    "## Split data\n",
    "\n",
    "So, one of the cool things about python is its use of a data type called a __tuple__. This is a set of variables, kind of like an array, that you can push together as one single object when writing out your functions. Here, we're calling a function called `train_test_split` from the `scikit-learn` library to split out data into our _dependent variable_ (`Salary`) and our _independent variable_ (`YearsExperience`). \n",
    "\n",
    "What we're doing here is a little different from the kind of regression that you might do with a simple _glm()_ command in R or a linear regression command in SPSS, because we're going to be splitting the data into a test set and a train set. This is because we're not building a model here for __hypothesis testing__ but instead for __prediction__ of future values. Here, a _causal relationship_ is less important to us than the simple _predictive power of our independent variable on different values of our dependent variable_. So, we want to prevent __overfitting__ our model to the data we have, which may serve to make our model less able to predict future values. This also helps when we're trying to train our model with only a few hundred data points to try to predict the values of thousands or even millions of data points.\n",
    "\n",
    "As was mentioned earlier, we're going to use the `train_test_split` method from `scikit-learn` to split the data we collected into a _training set_ and a _testing set_. we enter a number between 0 and 1 to the `test_size` parameter to tell the function what proportion of the data to use to test the model we formed. We'll define `random_state` as $24$, which will always produce the same __\"random seed\"__ to initialize our model."
   ]
  },
  {
   "cell_type": "code",
   "execution_count": 43,
   "metadata": {},
   "outputs": [],
   "source": [
    "training_set, testing_set = train_test_split(df, test_size=0.3, random_state=21)"
   ]
  },
  {
   "cell_type": "markdown",
   "metadata": {},
   "source": [
    "Now, let's make a __copy__ of our training set. This will give us more leeway to alter and utilize our training set, because we'll have a _backup_ from which to get our data back. We'll use the copy to perform most of the analysis."
   ]
  },
  {
   "cell_type": "code",
   "execution_count": 44,
   "metadata": {},
   "outputs": [],
   "source": [
    "df_copy = training_set.copy()"
   ]
  },
  {
   "cell_type": "markdown",
   "metadata": {},
   "source": [
    "## Data Summary\n",
    "\n",
    "Let's take a look at our data. First we're going to get a __summary__ of each of our variables using the `describe` function from __pandas__. Of note here is the __std__ or __standard deviation__, the __mean__  and the __quartiles__. "
   ]
  },
  {
   "cell_type": "code",
   "execution_count": 45,
   "metadata": {},
   "outputs": [
    {
     "data": {
      "text/html": [
       "<div>\n",
       "<style scoped>\n",
       "    .dataframe tbody tr th:only-of-type {\n",
       "        vertical-align: middle;\n",
       "    }\n",
       "\n",
       "    .dataframe tbody tr th {\n",
       "        vertical-align: top;\n",
       "    }\n",
       "\n",
       "    .dataframe thead th {\n",
       "        text-align: right;\n",
       "    }\n",
       "</style>\n",
       "<table border=\"1\" class=\"dataframe\">\n",
       "  <thead>\n",
       "    <tr style=\"text-align: right;\">\n",
       "      <th></th>\n",
       "      <th>YearsExperience</th>\n",
       "      <th>Salary</th>\n",
       "    </tr>\n",
       "  </thead>\n",
       "  <tbody>\n",
       "    <tr>\n",
       "      <th>count</th>\n",
       "      <td>21.000000</td>\n",
       "      <td>21.000000</td>\n",
       "    </tr>\n",
       "    <tr>\n",
       "      <th>mean</th>\n",
       "      <td>4.900000</td>\n",
       "      <td>70497.380952</td>\n",
       "    </tr>\n",
       "    <tr>\n",
       "      <th>std</th>\n",
       "      <td>2.661203</td>\n",
       "      <td>25543.995362</td>\n",
       "    </tr>\n",
       "    <tr>\n",
       "      <th>min</th>\n",
       "      <td>1.100000</td>\n",
       "      <td>37731.000000</td>\n",
       "    </tr>\n",
       "    <tr>\n",
       "      <th>25%</th>\n",
       "      <td>3.200000</td>\n",
       "      <td>56957.000000</td>\n",
       "    </tr>\n",
       "    <tr>\n",
       "      <th>50%</th>\n",
       "      <td>4.100000</td>\n",
       "      <td>63218.000000</td>\n",
       "    </tr>\n",
       "    <tr>\n",
       "      <th>75%</th>\n",
       "      <td>5.900000</td>\n",
       "      <td>83088.000000</td>\n",
       "    </tr>\n",
       "    <tr>\n",
       "      <th>max</th>\n",
       "      <td>10.500000</td>\n",
       "      <td>121872.000000</td>\n",
       "    </tr>\n",
       "  </tbody>\n",
       "</table>\n",
       "</div>"
      ],
      "text/plain": [
       "       YearsExperience         Salary\n",
       "count        21.000000      21.000000\n",
       "mean          4.900000   70497.380952\n",
       "std           2.661203   25543.995362\n",
       "min           1.100000   37731.000000\n",
       "25%           3.200000   56957.000000\n",
       "50%           4.100000   63218.000000\n",
       "75%           5.900000   83088.000000\n",
       "max          10.500000  121872.000000"
      ]
     },
     "execution_count": 45,
     "metadata": {},
     "output_type": "execute_result"
    }
   ],
   "source": [
    "df_copy.describe()"
   ]
  },
  {
   "cell_type": "markdown",
   "metadata": {},
   "source": [
    "Now we're going to use the `corr` method. This will output a __correlation matrix__ between the variables in our dataset, which will tell us whether one is a good predictor of another.\n"
   ]
  },
  {
   "cell_type": "code",
   "execution_count": 46,
   "metadata": {},
   "outputs": [
    {
     "data": {
      "text/html": [
       "<div>\n",
       "<style scoped>\n",
       "    .dataframe tbody tr th:only-of-type {\n",
       "        vertical-align: middle;\n",
       "    }\n",
       "\n",
       "    .dataframe tbody tr th {\n",
       "        vertical-align: top;\n",
       "    }\n",
       "\n",
       "    .dataframe thead th {\n",
       "        text-align: right;\n",
       "    }\n",
       "</style>\n",
       "<table border=\"1\" class=\"dataframe\">\n",
       "  <thead>\n",
       "    <tr style=\"text-align: right;\">\n",
       "      <th></th>\n",
       "      <th>YearsExperience</th>\n",
       "      <th>Salary</th>\n",
       "    </tr>\n",
       "  </thead>\n",
       "  <tbody>\n",
       "    <tr>\n",
       "      <th>YearsExperience</th>\n",
       "      <td>1.000000</td>\n",
       "      <td>0.980014</td>\n",
       "    </tr>\n",
       "    <tr>\n",
       "      <th>Salary</th>\n",
       "      <td>0.980014</td>\n",
       "      <td>1.000000</td>\n",
       "    </tr>\n",
       "  </tbody>\n",
       "</table>\n",
       "</div>"
      ],
      "text/plain": [
       "                 YearsExperience    Salary\n",
       "YearsExperience         1.000000  0.980014\n",
       "Salary                  0.980014  1.000000"
      ]
     },
     "execution_count": 46,
     "metadata": {},
     "output_type": "execute_result"
    }
   ],
   "source": [
    "df_copy.corr()"
   ]
  },
  {
   "cell_type": "markdown",
   "metadata": {},
   "source": [
    "### Plotting\n",
    "\n",
    "Let's use `matplotlib`'s `plot` method to get a __scatter plot__ of the data. This will give us a __visual cue__ of what relationship the two variables have. You can use this with the correlation numbers to get a good preliminary idea of whether linear regression is going to be a good model for your variables. I made it teal!"
   ]
  },
  {
   "cell_type": "code",
   "execution_count": 47,
   "metadata": {},
   "outputs": [
    {
     "data": {
      "text/plain": [
       "<AxesSubplot:xlabel='YearsExperience', ylabel='Salary'>"
      ]
     },
     "execution_count": 47,
     "metadata": {},
     "output_type": "execute_result"
    },
    {
     "data": {
      "image/png": "[encoded data removed]",
      "text/plain": [
       "<Figure size 432x288 with 1 Axes>"
      ]
     },
     "metadata": {
      "needs_background": "light"
     },
     "output_type": "display_data"
    }
   ],
   "source": [
    "df_copy.plot.scatter(x='YearsExperience', y='Salary', c='teal')"
   ]
  },
  {
   "cell_type": "markdown",
   "metadata": {},
   "source": [
    "Also using `seaborn`'s `regplot` to get a visual cue regarding your regression model. *NOTE THIS IS NOT YOUR FINAL REGRESSION MODEL, JUST A GUESS AS TO WHAT IT MIGHT LOOK LIKE*."
   ]
  },
  {
   "cell_type": "code",
   "execution_count": 48,
   "metadata": {},
   "outputs": [
    {
     "data": {
      "text/plain": [
       "<AxesSubplot:xlabel='YearsExperience', ylabel='Salary'>"
      ]
     },
     "execution_count": 48,
     "metadata": {},
     "output_type": "execute_result"
    },
    {
     "data": {
      "image/png": "[encoded data removed]",
      "text/plain": [
       "<Figure size 432x288 with 1 Axes>"
      ]
     },
     "metadata": {
      "needs_background": "light"
     },
     "output_type": "display_data"
    }
   ],
   "source": [
    "sns.regplot(x='YearsExperience', # Independent Variable (x-axis)\n",
    "           y='Salary', # Dependent Variable (y-axis)\n",
    "           data=df_copy)"
   ]
  },
  {
   "cell_type": "markdown",
   "metadata": {},
   "source": [
    "## Making our Model\n",
    "\n",
    "So now we're going to make three new sets for our analysis. first we're going to make `training_labels`. This is just the `Salary` column from the dataframe. It'll be used to provide correct answers to the the `LinearRegression` model's guesses while it's training."
   ]
  },
  {
   "cell_type": "code",
   "execution_count": 49,
   "metadata": {},
   "outputs": [],
   "source": [
    "training_labels = training_set[\"Salary\"]"
   ]
  },
  {
   "cell_type": "markdown",
   "metadata": {},
   "source": [
    " `testing_set` is pretty much just the `YearsExperience` column. It's the data our model will be making guesses from."
   ]
  },
  {
   "cell_type": "code",
   "execution_count": 50,
   "metadata": {},
   "outputs": [],
   "source": [
    "testing_set_full = testing_set.copy()\n",
    "\n",
    "testing_set = testing_set.drop([\"Salary\"], axis=1)"
   ]
  },
  {
   "cell_type": "markdown",
   "metadata": {},
   "source": [
    "`training_set` that is also just the `YearsExperience` column. The model will take these values and build a guessing model based on corresponding `Salary` values."
   ]
  },
  {
   "cell_type": "code",
   "execution_count": 51,
   "metadata": {},
   "outputs": [],
   "source": [
    "training_set_full = training_set.copy()\n",
    "\n",
    "training_set = training_set.drop([\"Salary\"], axis=1)"
   ]
  },
  {
   "cell_type": "markdown",
   "metadata": {},
   "source": [
    "Alright! Now we're finally ready to actually run the __linear regression__ function. First we're going to initialize the regression and assign it a name (here we're calling it `regression`). Then we'll __fit__ it with the `training_set` and the corresponding `training_labels`. We'll pass both of these into the `fit` method."
   ]
  },
  {
   "cell_type": "code",
   "execution_count": 52,
   "metadata": {},
   "outputs": [],
   "source": [
    "regression = LinearRegression().fit(training_set, training_labels)"
   ]
  },
  {
   "cell_type": "markdown",
   "metadata": {},
   "source": [
    "Now we can call a function to make predictions on our `testing_set`. Remember that because of the way we set up our model it has not seen any of this data before this point. This means the predictions it makes on this portion of the dataset will help us determine how well it fits actual data."
   ]
  },
  {
   "cell_type": "code",
   "execution_count": 53,
   "metadata": {},
   "outputs": [
    {
     "name": "stdout",
     "output_type": "stream",
     "text": [
      " 51683.73508963 101539.89662592  98717.84974651 121294.22478181\n",
      "  36632.81839943  91192.39140141  80844.88617689  54505.78196904\n",
      " 114709.44872984\n"
     ]
    }
   ],
   "source": [
    "salary_pred = regression.predict(testing_set)\n",
    "\n",
    "print(str(salary_pred).strip(\"[]\"))"
   ]
  },
  {
   "cell_type": "markdown",
   "metadata": {},
   "source": [
    "## Analyze Results"
   ]
  },
  {
   "cell_type": "markdown",
   "metadata": {},
   "source": [
    "Let's pull the __coefficient__ ($m$) and the __intercept__ ($b$) from our model. There's only one of each because we are doing a __univariate regression__."
   ]
  },
  {
   "cell_type": "code",
   "execution_count": 62,
   "metadata": {},
   "outputs": [
    {
     "name": "stdout",
     "output_type": "stream",
     "text": [
      "Coefficient:  9406.82293137532\n",
      "Intercept:  24403.948588641877\n"
     ]
    }
   ],
   "source": [
    "print(\"Coefficient: \", regression.coef_[0])\n",
    "print(\"Intercept: \", regression.intercept_)"
   ]
  },
  {
   "cell_type": "markdown",
   "metadata": {},
   "source": [
    "### Predictions vs Values\n",
    "Now that we have our $m$ coefficient and $b$ intercept, let's go ahead and build our model. The above output should put out numbers that make the equation:\n",
    "\n",
    "$y =  9628.315737792072x + 23784.1481416179$\n",
    "\n",
    "Let's see if that works with our __testing set__:"
   ]
  },
  {
   "cell_type": "code",
   "execution_count": 55,
   "metadata": {},
   "outputs": [
    {
     "name": "stdout",
     "output_type": "stream",
     "text": [
      "Testing Set Summary:\n",
      " vals           Pred            Actual\n",
      "2.9  => | 51683.7350896303   | 56642.0   \n",
      "8.2  => | 101539.8966259195  | 113812.0  \n",
      "7.9  => | 98717.8497465069   | 101302.0  \n",
      "10.3 => | 121294.22478180769 | 122391.0  \n",
      "1.3  => | 36632.818399429794 | 46205.0   \n",
      "7.1  => | 91192.39140140664  | 98273.0   \n",
      "6.0  => | 80844.88617689381  | 93940.0   \n",
      "3.2  => | 54505.7819690429   | 54445.0   \n",
      "9.6  => | 114709.44872984494 | 112635.0  \n"
     ]
    }
   ],
   "source": [
    "testing_set_print = testing_set_full.reset_index()\n",
    "print(\"Testing Set Summary:\")\n",
    "print(\" vals\" + 11*\" \" + \"Pred\" + 12*\" \" + \"Actual\")\n",
    "for idx in range(len(testing_set_full)):\n",
    "    print(\"{:<4} => | {:<18} | {:<10}\".format(testing_set_print[\"YearsExperience\"][idx],salary_pred[idx], testing_set_print[\"Salary\"][idx]))"
   ]
  },
  {
   "cell_type": "markdown",
   "metadata": {},
   "source": [
    "## Model Accuracy\n",
    "We're going to use the `score` method from our `scikit-learn` library to measure the $R^2$ of our model. This number tells us _how much of the overall variation (__variance__) in the measurements we made can be explained by the __regression equation__ our model made_. The closer to $1$ this estimate is, the more _\"accurate\"_ of a prediction our model is making."
   ]
  },
  {
   "cell_type": "code",
   "execution_count": 56,
   "metadata": {},
   "outputs": [
    {
     "name": "stdout",
     "output_type": "stream",
     "text": [
      "R squared = 0.9244145228524281\n",
      "Approximately 92.4% of variance is explained by our model.\n"
     ]
    }
   ],
   "source": [
    "score = regression.score(testing_set, testing_set_full[\"Salary\"])\n",
    "print(\"R squared = {}\".format(score))\n",
    "print(\"Approximately {:.1f}% of variance is explained by our model.\".format(score*100))"
   ]
  },
  {
   "cell_type": "markdown",
   "metadata": {},
   "source": [
    "We can also plot our __test data__ (here in dark blue) and our __training data__ (here in teal) as a __scatter plot__ and show visually how our prediction is performing. The __regression line__ based on our predictions is here shown in red.\n",
    "\n",
    "Here we're asking __matplotlib__ (which we called _\"plt\"_ in the import cell) to layer together:\n",
    "- two __scatter plots__ with the __test__ and __train__ datasets\n",
    "- one __plot line__ mapping the __regression predictions__\n",
    "- one __legend__ describing the __plot contents__"
   ]
  },
  {
   "cell_type": "code",
   "execution_count": 57,
   "metadata": {},
   "outputs": [
    {
     "data": {
      "text/plain": [
       "<matplotlib.legend.Legend at 0x7f0220d04d30>"
      ]
     },
     "execution_count": 57,
     "metadata": {},
     "output_type": "execute_result"
    },
    {
     "data": {
      "image/png": "[encoded data removed]",
      "text/plain": [
       "<Figure size 432x288 with 1 Axes>"
      ]
     },
     "metadata": {
      "needs_background": "light"
     },
     "output_type": "display_data"
    }
   ],
   "source": [
    "plt.scatter(testing_set_full[\"YearsExperience\"], testing_set_full[\"Salary\"], color='blue')\n",
    "plt.scatter(training_set_full[\"YearsExperience\"], training_set_full[\"Salary\"], color='aqua')\n",
    "plt.plot(testing_set_full[\"YearsExperience\"], salary_pred, color='red', linewidth=2)\n",
    "plt.legend(labels=[\"Model Prediction\", \"Testing Set\", \"Training Set\"])"
   ]
  },
  {
   "cell_type": "markdown",
   "metadata": {},
   "source": [
    "## Conclusion\n",
    "\n",
    "This notebook covered how to train and evaluate a simple __regression analysis__ in __python__ using __sklearn tools__. The focus of this was geared towards those wanting to implement these analyses for __machine learning__ and __data science__ purposes, as opposed to a more __causal-relationship__ or __research__ based analysis. \n",
    "\n",
    "In the end here, I think it might be prudent to briefly cover how a regression might be performed in python using a more _traditional_ method, like you might find if you put this data into the software I first learned when I was starting out in stats - __IBM SPSS__. \n",
    "\n",
    "So, we're going to import one more library to perform this task: `statsmodels.api`. This library is built for the more traditional __research-oriented__ analysis we are looking for. Let's get started!"
   ]
  },
  {
   "cell_type": "code",
   "execution_count": 58,
   "metadata": {},
   "outputs": [],
   "source": [
    "import statsmodels.api as sm"
   ]
  },
  {
   "cell_type": "markdown",
   "metadata": {},
   "source": [
    "Now, we're going to use the `statsmodels` `OLS()` function to build an __Ordinary Least Squares__ regression model from our data. It's important to note that this model will use __100%__ of our data, without concerning itself with __overfitting__ the data. It's just trying to find the line that best fits the variation of the current data. We're going to put `df_copy` into this and `fit()` the OLS model to the data. The `OLS()` method here is taking in two parameters: first the __Y__, then the __X__"
   ]
  },
  {
   "cell_type": "code",
   "execution_count": 59,
   "metadata": {},
   "outputs": [
    {
     "data": {
      "text/html": [
       "<table class=\"simpletable\">\n",
       "<caption>OLS Regression Results</caption>\n",
       "<tr>\n",
       "  <th>Dep. Variable:</th>         <td>Salary</td>      <th>  R-squared (uncentered):</th>      <td>   0.972</td>\n",
       "</tr>\n",
       "<tr>\n",
       "  <th>Model:</th>                   <td>OLS</td>       <th>  Adj. R-squared (uncentered):</th> <td>   0.971</td>\n",
       "</tr>\n",
       "<tr>\n",
       "  <th>Method:</th>             <td>Least Squares</td>  <th>  F-statistic:       </th>          <td>   700.5</td>\n",
       "</tr>\n",
       "<tr>\n",
       "  <th>Date:</th>             <td>Thu, 26 Nov 2020</td> <th>  Prob (F-statistic):</th>          <td>4.85e-17</td>\n",
       "</tr>\n",
       "<tr>\n",
       "  <th>Time:</th>                 <td>02:18:02</td>     <th>  Log-Likelihood:    </th>          <td> -227.83</td>\n",
       "</tr>\n",
       "<tr>\n",
       "  <th>No. Observations:</th>      <td>    21</td>      <th>  AIC:               </th>          <td>   457.7</td>\n",
       "</tr>\n",
       "<tr>\n",
       "  <th>Df Residuals:</th>          <td>    20</td>      <th>  BIC:               </th>          <td>   458.7</td>\n",
       "</tr>\n",
       "<tr>\n",
       "  <th>Df Model:</th>              <td>     1</td>      <th>                     </th>              <td> </td>   \n",
       "</tr>\n",
       "<tr>\n",
       "  <th>Covariance Type:</th>      <td>nonrobust</td>    <th>                     </th>              <td> </td>   \n",
       "</tr>\n",
       "</table>\n",
       "<table class=\"simpletable\">\n",
       "<tr>\n",
       "         <td></td>            <th>coef</th>     <th>std err</th>      <th>t</th>      <th>P>|t|</th>  <th>[0.025</th>    <th>0.975]</th>  \n",
       "</tr>\n",
       "<tr>\n",
       "  <th>YearsExperience</th> <td> 1.329e+04</td> <td>  502.315</td> <td>   26.467</td> <td> 0.000</td> <td> 1.22e+04</td> <td> 1.43e+04</td>\n",
       "</tr>\n",
       "</table>\n",
       "<table class=\"simpletable\">\n",
       "<tr>\n",
       "  <th>Omnibus:</th>       <td> 0.272</td> <th>  Durbin-Watson:     </th> <td>   1.729</td>\n",
       "</tr>\n",
       "<tr>\n",
       "  <th>Prob(Omnibus):</th> <td> 0.873</td> <th>  Jarque-Bera (JB):  </th> <td>   0.440</td>\n",
       "</tr>\n",
       "<tr>\n",
       "  <th>Skew:</th>          <td>-0.186</td> <th>  Prob(JB):          </th> <td>   0.802</td>\n",
       "</tr>\n",
       "<tr>\n",
       "  <th>Kurtosis:</th>      <td> 2.396</td> <th>  Cond. No.          </th> <td>    1.00</td>\n",
       "</tr>\n",
       "</table><br/><br/>Notes:<br/>[1] R² is computed without centering (uncentered) since the model does not contain a constant.<br/>[2] Standard Errors assume that the covariance matrix of the errors is correctly specified."
      ],
      "text/plain": [
       "<class 'statsmodels.iolib.summary.Summary'>\n",
       "\"\"\"\n",
       "                                 OLS Regression Results                                \n",
       "=======================================================================================\n",
       "Dep. Variable:                 Salary   R-squared (uncentered):                   0.972\n",
       "Model:                            OLS   Adj. R-squared (uncentered):              0.971\n",
       "Method:                 Least Squares   F-statistic:                              700.5\n",
       "Date:                Thu, 26 Nov 2020   Prob (F-statistic):                    4.85e-17\n",
       "Time:                        02:18:02   Log-Likelihood:                         -227.83\n",
       "No. Observations:                  21   AIC:                                      457.7\n",
       "Df Residuals:                      20   BIC:                                      458.7\n",
       "Df Model:                           1                                                  \n",
       "Covariance Type:            nonrobust                                                  \n",
       "===================================================================================\n",
       "                      coef    std err          t      P>|t|      [0.025      0.975]\n",
       "-----------------------------------------------------------------------------------\n",
       "YearsExperience  1.329e+04    502.315     26.467      0.000    1.22e+04    1.43e+04\n",
       "==============================================================================\n",
       "Omnibus:                        0.272   Durbin-Watson:                   1.729\n",
       "Prob(Omnibus):                  0.873   Jarque-Bera (JB):                0.440\n",
       "Skew:                          -0.186   Prob(JB):                        0.802\n",
       "Kurtosis:                       2.396   Cond. No.                         1.00\n",
       "==============================================================================\n",
       "\n",
       "Notes:\n",
       "[1] R² is computed without centering (uncentered) since the model does not contain a constant.\n",
       "[2] Standard Errors assume that the covariance matrix of the errors is correctly specified.\n",
       "\"\"\""
      ]
     },
     "execution_count": 59,
     "metadata": {},
     "output_type": "execute_result"
    }
   ],
   "source": [
    "model = sm.OLS(df_copy['Salary'],df_copy['YearsExperience']).fit() \n",
    "model.summary()"
   ]
  },
  {
   "cell_type": "markdown",
   "metadata": {},
   "source": [
    "#### Final Regression Plot\n",
    "Now we've got a regression __output__ with some descriptions you might be more familiar. You can switch between these two depending on what your analysis needs are. Let's finish up with one more __plot__. In fact, you've seen this plot before. "
   ]
  },
  {
   "cell_type": "code",
   "execution_count": 60,
   "metadata": {},
   "outputs": [
    {
     "data": {
      "text/plain": [
       "<AxesSubplot:xlabel='YearsExperience', ylabel='Salary'>"
      ]
     },
     "execution_count": 60,
     "metadata": {},
     "output_type": "execute_result"
    },
    {
     "data": {
      "image/png": "[encoded data removed]",
      "text/plain": [
       "<Figure size 432x288 with 1 Axes>"
      ]
     },
     "metadata": {
      "needs_background": "light"
     },
     "output_type": "display_data"
    }
   ],
   "source": [
    "sns.regplot(x='YearsExperience', # Independent Variable (x-axis)\n",
    "           y='Salary', # Dependent Variable (y-axis)\n",
    "           data=df_copy)"
   ]
  }
 ],
 "metadata": {
  "kernelspec": {
   "display_name": "Python 3",
   "language": "python",
   "name": "python3"
  },
  "language_info": {
   "codemirror_mode": {
    "name": "ipython",
    "version": 3
   },
   "file_extension": ".py",
   "mimetype": "text/x-python",
   "name": "python",
   "nbconvert_exporter": "python",
   "pygments_lexer": "ipython3",
   "version": "3.8.5"
  }
 },
 "nbformat": 4,
 "nbformat_minor": 4
}
